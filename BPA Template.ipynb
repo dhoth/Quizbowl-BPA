{
 "cells": [
  {
   "cell_type": "code",
   "execution_count": 1,
   "metadata": {},
   "outputs": [],
   "source": [
    "#Standard Imports\n",
    "import pandas as pd\n",
    "import numpy as np\n",
    "import os\n",
    "import seaborn as sns"
   ]
  },
  {
   "cell_type": "code",
   "execution_count": 70,
   "metadata": {},
   "outputs": [],
   "source": [
    "############################################################\n",
    "# Set up and read in file                                  # \n",
    "# path is filepath                                         #\n",
    "# cols is the columns from the file that should be read in # \n",
    "# stats stores all of the advance stats                    #\n",
    "############################################################\n",
    "\n",
    "path = 'C:\\\\Users\\\\dhoth\\\\Documents\\\\Quizbowl\\\\Advance Stats\\\\'\n",
    "cols = ['Team','Player','Category','Subcategory','Round','Answer','Buzzpoint','SUM of Buzz value','SUM of Buzz %']\n",
    "stats = pd.read_excel(path+\"\\\\Fall Open\\\\2019_Fall_Open.xlsx\", usecols = cols, index_col = [0,1,2,3]).reset_index()"
   ]
  },
  {
   "cell_type": "code",
   "execution_count": 71,
   "metadata": {},
   "outputs": [],
   "source": [
    "###########################################################\n",
    "# Loads in how many games players or teams played         #\n",
    "# Uncomment first two if you want to read it in from a    #\n",
    "# spreadsheet.                                            #\n",
    "###########################################################\n",
    "\n",
    "t = pd.DataFrame(stats.groupby(['Team']).nunique()['Round'])\n",
    "t.loc['4th Place']\n",
    "df_games = pd.DataFrame(stats.groupby(['Team','Player']).nunique()['Round']).reset_index()\n",
    "df_games['Round'] = df_games.apply(lambda row: t.loc[row.Team], axis = 1)\n",
    "\n",
    "df_games = df_games.rename(columns = {'Round': 'GP'})\n",
    "df_games['TUH'] = df_games['GP'] * 20\n",
    "\n",
    "# df_games = pd.read_excel(path+'\\\\Fall Open\\\\2019_Fall_Open_Players.xlsx', index_col = 0)\n",
    "# df_games['GP'] = df_games['GP'].astype(int)\n",
    "# df_games.head()"
   ]
  },
  {
   "cell_type": "code",
   "execution_count": 8,
   "metadata": {},
   "outputs": [],
   "source": [
    "###########################################################\n",
    "# Removes negs from the dataframe. Also removes buzzes    #\n",
    "# with bad buzzpoint data.                                #\n",
    "###########################################################\n",
    "\n",
    "stats = stats[(stats['SUM of Buzz value'] == 10) | (stats['SUM of Buzz value'] == 15)]\n",
    "for name,grp in stats.groupby('Player'): #Toggle for Team vs Players\n",
    "    df_games.loc[name,'TUH'] = df_games.loc[name,'TUH'] - (grp['SUM of Buzz %'] == 0).sum()\n",
    "\n",
    "stats = stats[stats['SUM of Buzz %'] > 0] "
   ]
  },
  {
   "cell_type": "code",
   "execution_count": 10,
   "metadata": {},
   "outputs": [],
   "source": [
    "###########################################################\n",
    "# Computes BPA.                                           #\n",
    "# buzzpoints is the dataframe that stores buzzpoints.     #\n",
    "# subject takes in a specific category if you want.       #\n",
    "# Team determines if you want a Team's BPA or Player BPA. #\n",
    "###########################################################\n",
    "\n",
    "def compute_BPA(buzzpoints = stats, subject = None, team = False):\n",
    "    buzzpoints = stats[(stats['SUM of Buzz value'] == 10) | (stats['SUM of Buzz value'] == 15)]\n",
    "    buzzpoints = buzzpoints[buzzpoints['SUM of Buzz %'] > 0]\n",
    "    if subject != None:\n",
    "        buzzpoints = buzzpoints[buzzpoints.Category == subject]\n",
    "    if team is False:\n",
    "        df_grouped = buzzpoints.groupby(['Player'])\n",
    "    else: \n",
    "        df_grouped = buzzpoints.groupby(['Team'])\n",
    "    df_processed = df_grouped.mean()\n",
    "    if team is False:\n",
    "        df_processed['Buzzes'] = df_grouped.count()['Team']\n",
    "    if team is True:\n",
    "        df_processed['Buzzes'] = df_grouped.count()['Player']\n",
    "    if team is False:\n",
    "        df_processed = df_processed.join(df_games, on = 'Player')\n",
    "    else:\n",
    "        df_processed = df_processed.join(df_games, on = 'Team')\n",
    "    df_processed['BPA'] = ((1-df_processed['SUM of Buzz %'])*df_processed['Buzzes'])/df_processed['TUH']\n",
    "    if subject != None:\n",
    "        df_processed['BPA'] = sub_mult[subject]*df_processed['BPA']\n",
    "    return df_processed[['Buzzpoint','SUM of Buzz %','BPA']]"
   ]
  },
  {
   "cell_type": "code",
   "execution_count": 11,
   "metadata": {},
   "outputs": [],
   "source": [
    "###########################################################\n",
    "# Computes overall and subject BPAs. Set team = False for #\n",
    "# individual BPA. Results are outputed to Excel files.    #\n",
    "# sub_mult is used to compute subject BPAs. The entry for #\n",
    "# each category is 20/(# of questions per packet)         #\n",
    "###########################################################\n",
    "\n",
    "sub_mult = {'History': 5, 'Literature':5,'Science':5,'Arts':6.666,'Other':15,\n",
    "            'RMPSS':5.454545}\n",
    "\n",
    "cats = [None, 'Science','Literature','History','Other', 'RMPSS']\n",
    "for c in cats:\n",
    "    d = compute_BPA(team = True, subject = c)\n",
    "    d = d.sort_values(by = 'BPA',ascending = False)\n",
    "\n",
    "    try: \n",
    "        os.chdir(path+'Fall Open\\\\')\n",
    "    except OSError: \n",
    "        print(\"Can't change the Current Working Directory\")\n",
    "    if c is not None:    \n",
    "        d.to_excel('2019_Fall_Open_Team_{}_BPA.xlsx'.format(c))\n",
    "    else:\n",
    "        d.to_excel('2019_Fall_Open_Team_BPA.xlsx')"
   ]
  },
  {
   "cell_type": "code",
   "execution_count": null,
   "metadata": {},
   "outputs": [],
   "source": []
  }
 ],
 "metadata": {
  "kernelspec": {
   "display_name": "Python 3",
   "language": "python",
   "name": "python3"
  },
  "language_info": {
   "codemirror_mode": {
    "name": "ipython",
    "version": 3
   },
   "file_extension": ".py",
   "mimetype": "text/x-python",
   "name": "python",
   "nbconvert_exporter": "python",
   "pygments_lexer": "ipython3",
   "version": "3.7.3"
  }
 },
 "nbformat": 4,
 "nbformat_minor": 2
}
